{
 "cells": [
  {
   "cell_type": "markdown",
   "metadata": {},
   "source": [
    "# Cough cleaning\n",
    "In this example, we use a pre-loaded cough classification XGB model and corresponding feature scaler to determine the probability of a given recording being a cough sample."
   ]
  },
  {
   "cell_type": "code",
   "execution_count": 1,
   "metadata": {},
   "outputs": [],
   "source": [
    "import os\n",
    "import sys\n",
    "sys.path.append(os.path.abspath('../src'))\n",
    "from feature_class import features\n",
    "from DSP import classify_cough\n",
    "from scipy.io import wavfile\n",
    "import pickle"
   ]
  },
  {
   "cell_type": "markdown",
   "metadata": {},
   "source": [
    "## Import data and model\n",
    "Import the data you want to clean and the model used for cough classification"
   ]
  },
  {
   "cell_type": "code",
   "execution_count": 4,
   "metadata": {},
   "outputs": [],
   "source": [
    "data_folder = '../sample_recordings'\n",
    "loaded_model = pickle.load(open(os.path.join('../models', 'cough_classifier'), 'rb'))\n",
    "loaded_scaler = pickle.load(open(os.path.join('../models','cough_classification_scaler'), 'rb'))"
   ]
  },
  {
   "cell_type": "markdown",
   "metadata": {},
   "source": [
    "## Test cough recording"
   ]
  },
  {
   "cell_type": "code",
   "execution_count": 6,
   "metadata": {},
   "outputs": [
    {
     "name": "stdout",
     "output_type": "stream",
     "text": [
      "The file cough.wav has a 98.82\\% probability of being a cough\n"
     ]
    }
   ],
   "source": [
    "filename = 'cough.wav'\n",
    "fs, x = wavfile.read(data_folder+'/'+filename)\n",
    "probability = classify_cough(x, fs, loaded_model, loaded_scaler)\n",
    "print(\"The file {0} has a {1}\\% probability of being a cough\".format(filename,round(probability*100,2)))"
   ]
  },
  {
   "cell_type": "markdown",
   "metadata": {},
   "source": [
    "## Test non-cough recording"
   ]
  },
  {
   "cell_type": "code",
   "execution_count": 7,
   "metadata": {},
   "outputs": [
    {
     "name": "stdout",
     "output_type": "stream",
     "text": [
      "The file not_cough.wav has a 0.29\\% probability of being a cough\n"
     ]
    }
   ],
   "source": [
    "filename = 'not_cough.wav'\n",
    "fs, x = wavfile.read(data_folder+'/'+filename)\n",
    "probability = classify_cough(x, fs, loaded_model, loaded_scaler)\n",
    "print(\"The file {0} has a {1}\\% probability of being a cough\".format(filename,round(probability*100,2)))"
   ]
  },
  {
   "cell_type": "code",
   "execution_count": null,
   "metadata": {},
   "outputs": [],
   "source": []
  }
 ],
 "metadata": {
  "kernelspec": {
   "display_name": "Python 3",
   "language": "python",
   "name": "python3"
  },
  "language_info": {
   "codemirror_mode": {
    "name": "ipython",
    "version": 3
   },
   "file_extension": ".py",
   "mimetype": "text/x-python",
   "name": "python",
   "nbconvert_exporter": "python",
   "pygments_lexer": "ipython3",
   "version": "3.8.8"
  }
 },
 "nbformat": 4,
 "nbformat_minor": 2
}
